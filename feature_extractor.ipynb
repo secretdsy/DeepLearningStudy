{
 "cells": [
  {
   "cell_type": "code",
   "execution_count": 24,
   "metadata": {
    "collapsed": true
   },
   "outputs": [],
   "source": [
    "name_list = []\n",
    "label_list = []"
   ]
  },
  {
   "cell_type": "code",
   "execution_count": 25,
   "metadata": {
    "collapsed": false
   },
   "outputs": [],
   "source": [
    "def parsing(filename):\n",
    "    f = open(filename, 'r')\n",
    "    lines = f.readlines()\n",
    "    lines[-1] += '\\n'\n",
    "    \n",
    "    #print(type(lines))\n",
    "    \n",
    "    for line in lines:\n",
    "        splited = line.split('\\t')\n",
    "        name_list.append(splited[0])\n",
    "        label_list.append(splited[1])\n",
    "    f.close()\n",
    "\n",
    "    return name_list, label_list"
   ]
  },
  {
   "cell_type": "code",
   "execution_count": 26,
   "metadata": {
    "collapsed": false
   },
   "outputs": [
    {
     "data": {
      "text/plain": [
       "(['audio/b020_90_100.wav',\n",
       "  'audio/b020_110_120.wav',\n",
       "  'audio/b020_100_110.wav',\n",
       "  'audio/a071_90_100.wav',\n",
       "  'audio/a071_10_20.wav',\n",
       "  'audio/a071_20_30.wav',\n",
       "  'audio/a126_230_240.wav',\n",
       "  'audio/a126_220_230.wav',\n",
       "  'audio/a126_210_220.wav',\n",
       "  'audio/b097_90_100.wav',\n",
       "  'audio/b097_110_120.wav',\n",
       "  'audio/b097_100_110.wav',\n",
       "  'audio/a131_130_140.wav',\n",
       "  'audio/a131_120_130.wav',\n",
       "  'audio/a131_140_150.wav',\n",
       "  'audio/a043_90_100.wav',\n",
       "  'audio/a043_110_120.wav',\n",
       "  'audio/a043_100_110.wav',\n",
       "  'audio/b085_160_170.wav',\n",
       "  'audio/b085_170_180.wav',\n",
       "  'audio/b085_150_160.wav',\n",
       "  'audio/a038_30_40.wav',\n",
       "  'audio/a038_40_50.wav',\n",
       "  'audio/a038_50_60.wav'],\n",
       " ['beach\\n',\n",
       "  'beach\\n',\n",
       "  'beach\\n',\n",
       "  'bus\\n',\n",
       "  'bus\\n',\n",
       "  'bus\\n',\n",
       "  'cafe/restaurant\\n',\n",
       "  'cafe/restaurant\\n',\n",
       "  'cafe/restaurant\\n',\n",
       "  'car\\n',\n",
       "  'car\\n',\n",
       "  'car\\n',\n",
       "  'city_center\\n',\n",
       "  'city_center\\n',\n",
       "  'city_center\\n',\n",
       "  'forest_path\\n',\n",
       "  'forest_path\\n',\n",
       "  'forest_path\\n',\n",
       "  'grocery_store\\n',\n",
       "  'grocery_store\\n',\n",
       "  'grocery_store\\n',\n",
       "  'home\\n',\n",
       "  'home\\n',\n",
       "  'home\\n'])"
      ]
     },
     "execution_count": 26,
     "metadata": {},
     "output_type": "execute_result"
    }
   ],
   "source": [
    "parsing(\"test.txt\")"
   ]
  },
  {
   "cell_type": "code",
   "execution_count": 27,
   "metadata": {
    "collapsed": true
   },
   "outputs": [],
   "source": [
    "from sklearn.preprocessing import LabelBinarizer\n",
    "lb = LabelBinarizer()"
   ]
  },
  {
   "cell_type": "code",
   "execution_count": 28,
   "metadata": {
    "collapsed": false
   },
   "outputs": [],
   "source": [
    "y = label_list"
   ]
  },
  {
   "cell_type": "code",
   "execution_count": 29,
   "metadata": {
    "collapsed": false
   },
   "outputs": [
    {
     "data": {
      "text/plain": [
       "LabelBinarizer(neg_label=0, pos_label=1, sparse_output=False)"
      ]
     },
     "execution_count": 29,
     "metadata": {},
     "output_type": "execute_result"
    }
   ],
   "source": [
    "lb.fit(y)"
   ]
  },
  {
   "cell_type": "code",
   "execution_count": 30,
   "metadata": {
    "collapsed": false
   },
   "outputs": [
    {
     "data": {
      "text/plain": [
       "array(['beach\\n', 'bus\\n', 'cafe/restaurant\\n', 'car\\n', 'city_center\\n',\n",
       "       'forest_path\\n', 'grocery_store\\n', 'home\\n'], \n",
       "      dtype='<U16')"
      ]
     },
     "execution_count": 30,
     "metadata": {},
     "output_type": "execute_result"
    }
   ],
   "source": [
    "lb.classes_"
   ]
  },
  {
   "cell_type": "code",
   "execution_count": 38,
   "metadata": {
    "collapsed": false
   },
   "outputs": [
    {
     "name": "stdout",
     "output_type": "stream",
     "text": [
      "<class 'numpy.ndarray'>\n",
      "[[1 0 0 0 0 0 0 0]\n",
      " [1 0 0 0 0 0 0 0]\n",
      " [1 0 0 0 0 0 0 0]\n",
      " [0 1 0 0 0 0 0 0]\n",
      " [0 1 0 0 0 0 0 0]\n",
      " [0 1 0 0 0 0 0 0]\n",
      " [0 0 1 0 0 0 0 0]\n",
      " [0 0 1 0 0 0 0 0]\n",
      " [0 0 1 0 0 0 0 0]\n",
      " [0 0 0 1 0 0 0 0]\n",
      " [0 0 0 1 0 0 0 0]\n",
      " [0 0 0 1 0 0 0 0]\n",
      " [0 0 0 0 1 0 0 0]\n",
      " [0 0 0 0 1 0 0 0]\n",
      " [0 0 0 0 1 0 0 0]\n",
      " [0 0 0 0 0 1 0 0]\n",
      " [0 0 0 0 0 1 0 0]\n",
      " [0 0 0 0 0 1 0 0]\n",
      " [0 0 0 0 0 0 1 0]\n",
      " [0 0 0 0 0 0 1 0]\n",
      " [0 0 0 0 0 0 1 0]\n",
      " [0 0 0 0 0 0 0 1]\n",
      " [0 0 0 0 0 0 0 1]\n",
      " [0 0 0 0 0 0 0 1]]\n"
     ]
    }
   ],
   "source": [
    "onehot_label = lb.transform(y)\n",
    "print(type(lb.transform(y)))\n",
    "print(onehot_label)"
   ]
  },
  {
   "cell_type": "code",
   "execution_count": null,
   "metadata": {
    "collapsed": true
   },
   "outputs": [],
   "source": []
  }
 ],
 "metadata": {
  "anaconda-cloud": {},
  "kernelspec": {
   "display_name": "Python [default]",
   "language": "python",
   "name": "python3"
  },
  "language_info": {
   "codemirror_mode": {
    "name": "ipython",
    "version": 3
   },
   "file_extension": ".py",
   "mimetype": "text/x-python",
   "name": "python",
   "nbconvert_exporter": "python",
   "pygments_lexer": "ipython3",
   "version": "3.5.2"
  }
 },
 "nbformat": 4,
 "nbformat_minor": 1
}
