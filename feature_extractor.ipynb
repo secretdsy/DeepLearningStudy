{
 "cells": [
  {
   "cell_type": "code",
   "execution_count": 1,
   "metadata": {
    "collapsed": true
   },
   "outputs": [],
   "source": [
    "name_list = []\n",
    "label_list = []"
   ]
  },
  {
   "cell_type": "code",
   "execution_count": 2,
   "metadata": {
    "collapsed": false
   },
   "outputs": [],
   "source": [
    "def parsing(filename):\n",
    "    f = open(filename, 'r')\n",
    "    lines = f.readlines()\n",
    "    lines[-1] += '\\n'\n",
    "    \n",
    "    #print(type(lines))\n",
    "    \n",
    "    for line in lines:\n",
    "        splited = line.split('\\t')\n",
    "        name_list.append(splited[0])\n",
    "        label_list.append(splited[1])\n",
    "    f.close()\n",
    "\n",
    "    return name_list, label_list"
   ]
  },
  {
   "cell_type": "code",
   "execution_count": 3,
   "metadata": {
    "collapsed": false
   },
   "outputs": [
    {
     "data": {
      "text/plain": [
       "(['audio/b020_90_100.wav',\n",
       "  'audio/b020_110_120.wav',\n",
       "  'audio/b020_100_110.wav',\n",
       "  'audio/a071_90_100.wav',\n",
       "  'audio/a071_10_20.wav',\n",
       "  'audio/a071_20_30.wav',\n",
       "  'audio/a126_230_240.wav',\n",
       "  'audio/a126_220_230.wav',\n",
       "  'audio/a126_210_220.wav',\n",
       "  'audio/b097_90_100.wav',\n",
       "  'audio/b097_110_120.wav',\n",
       "  'audio/b097_100_110.wav',\n",
       "  'audio/a131_130_140.wav',\n",
       "  'audio/a131_120_130.wav',\n",
       "  'audio/a131_140_150.wav',\n",
       "  'audio/a043_90_100.wav',\n",
       "  'audio/a043_110_120.wav',\n",
       "  'audio/a043_100_110.wav',\n",
       "  'audio/b085_160_170.wav',\n",
       "  'audio/b085_170_180.wav',\n",
       "  'audio/b085_150_160.wav',\n",
       "  'audio/a038_30_40.wav',\n",
       "  'audio/a038_40_50.wav',\n",
       "  'audio/a038_50_60.wav'],\n",
       " ['beach\\n',\n",
       "  'beach\\n',\n",
       "  'beach\\n',\n",
       "  'bus\\n',\n",
       "  'bus\\n',\n",
       "  'bus\\n',\n",
       "  'cafe/restaurant\\n',\n",
       "  'cafe/restaurant\\n',\n",
       "  'cafe/restaurant\\n',\n",
       "  'car\\n',\n",
       "  'car\\n',\n",
       "  'car\\n',\n",
       "  'city_center\\n',\n",
       "  'city_center\\n',\n",
       "  'city_center\\n',\n",
       "  'forest_path\\n',\n",
       "  'forest_path\\n',\n",
       "  'forest_path\\n',\n",
       "  'grocery_store\\n',\n",
       "  'grocery_store\\n',\n",
       "  'grocery_store\\n',\n",
       "  'home\\n',\n",
       "  'home\\n',\n",
       "  'home\\n'])"
      ]
     },
     "execution_count": 3,
     "metadata": {},
     "output_type": "execute_result"
    }
   ],
   "source": [
    "parsing(\"test.txt\")"
   ]
  },
  {
   "cell_type": "code",
   "execution_count": 5,
   "metadata": {
    "collapsed": false
   },
   "outputs": [],
   "source": [
    "from sklearn.preprocessing import LabelBinarizer\n",
    "lb = LabelBinarizer()"
   ]
  },
  {
   "cell_type": "code",
   "execution_count": 12,
   "metadata": {
    "collapsed": true
   },
   "outputs": [],
   "source": [
    "def one_hot_encoding(label):\n",
    "    y = label\n",
    "    lb.fit(y)\n",
    "    onehot_label = lb.transform(y)\n",
    "    print(lb.classes_)\n",
    "    #print(type(onehot_label))\n",
    "    \n",
    "    return onehot_label"
   ]
  },
  {
   "cell_type": "code",
   "execution_count": 13,
   "metadata": {
    "collapsed": false
   },
   "outputs": [
    {
     "name": "stdout",
     "output_type": "stream",
     "text": [
      "['beach\\n' 'bus\\n' 'cafe/restaurant\\n' 'car\\n' 'city_center\\n'\n",
      " 'forest_path\\n' 'grocery_store\\n' 'home\\n']\n",
      "<class 'numpy.ndarray'>\n"
     ]
    },
    {
     "data": {
      "text/plain": [
       "array([[1, 0, 0, 0, 0, 0, 0, 0],\n",
       "       [1, 0, 0, 0, 0, 0, 0, 0],\n",
       "       [1, 0, 0, 0, 0, 0, 0, 0],\n",
       "       [0, 1, 0, 0, 0, 0, 0, 0],\n",
       "       [0, 1, 0, 0, 0, 0, 0, 0],\n",
       "       [0, 1, 0, 0, 0, 0, 0, 0],\n",
       "       [0, 0, 1, 0, 0, 0, 0, 0],\n",
       "       [0, 0, 1, 0, 0, 0, 0, 0],\n",
       "       [0, 0, 1, 0, 0, 0, 0, 0],\n",
       "       [0, 0, 0, 1, 0, 0, 0, 0],\n",
       "       [0, 0, 0, 1, 0, 0, 0, 0],\n",
       "       [0, 0, 0, 1, 0, 0, 0, 0],\n",
       "       [0, 0, 0, 0, 1, 0, 0, 0],\n",
       "       [0, 0, 0, 0, 1, 0, 0, 0],\n",
       "       [0, 0, 0, 0, 1, 0, 0, 0],\n",
       "       [0, 0, 0, 0, 0, 1, 0, 0],\n",
       "       [0, 0, 0, 0, 0, 1, 0, 0],\n",
       "       [0, 0, 0, 0, 0, 1, 0, 0],\n",
       "       [0, 0, 0, 0, 0, 0, 1, 0],\n",
       "       [0, 0, 0, 0, 0, 0, 1, 0],\n",
       "       [0, 0, 0, 0, 0, 0, 1, 0],\n",
       "       [0, 0, 0, 0, 0, 0, 0, 1],\n",
       "       [0, 0, 0, 0, 0, 0, 0, 1],\n",
       "       [0, 0, 0, 0, 0, 0, 0, 1]])"
      ]
     },
     "execution_count": 13,
     "metadata": {},
     "output_type": "execute_result"
    }
   ],
   "source": [
    "one_hot_encoding(label_list)"
   ]
  },
  {
   "cell_type": "code",
   "execution_count": null,
   "metadata": {
    "collapsed": true
   },
   "outputs": [],
   "source": []
  }
 ],
 "metadata": {
  "anaconda-cloud": {},
  "kernelspec": {
   "display_name": "Python [default]",
   "language": "python",
   "name": "python3"
  },
  "language_info": {
   "codemirror_mode": {
    "name": "ipython",
    "version": 3
   },
   "file_extension": ".py",
   "mimetype": "text/x-python",
   "name": "python",
   "nbconvert_exporter": "python",
   "pygments_lexer": "ipython3",
   "version": "3.5.2"
  }
 },
 "nbformat": 4,
 "nbformat_minor": 1
}
