{
 "cells": [
  {
   "cell_type": "code",
   "execution_count": 1,
   "metadata": {
    "collapsed": false
   },
   "outputs": [
    {
     "name": "stderr",
     "output_type": "stream",
     "text": [
      "Using TensorFlow backend.\n"
     ]
    }
   ],
   "source": [
    "import librosa\n",
    "import h5py\n",
    "import numpy as np\n",
    "from os import listdir\n",
    "import sklearn\n",
    "from sklearn.preprocessing import normalize\n",
    "\n",
    "import keras\n",
    "from keras.layers.normalization import BatchNormalization\n",
    "from keras.utils import np_utils\n",
    "from keras.models import Sequential\n",
    "from keras.layers import Dense, Dropout, Activation, Flatten\n",
    "from keras.layers import Conv2D, MaxPooling2D\n",
    "from keras.utils import np_utils\n",
    "from keras import backend as K"
   ]
  },
  {
   "cell_type": "code",
   "execution_count": 2,
   "metadata": {
    "collapsed": true
   },
   "outputs": [],
   "source": [
    "data_list = ['bed', 'bird', 'cat', 'dog', 'down',\n",
    "             'eight', 'five', 'four', 'go', 'happy']"
   ]
  },
  {
   "cell_type": "code",
   "execution_count": 5,
   "metadata": {
    "collapsed": false
   },
   "outputs": [],
   "source": [
    "for file_list in range(len(data_list)):\n",
    "    data_name = data_list[file_list]\n",
    "    file_list = librosa.util.find_files((\"data/\" + data_name), ext = 'wav')\n",
    "    file_list = list(set(file_list)) # 겹치는 파일을 집합으로 만들어서 중복없애기\n",
    "    #print(i)\n",
    "    for file in file_list:\n",
    "        y, sr = librosa.load(file)\n",
    "        mfcc = librosa.feature.mfcc(y=y, sr=sr)\n",
    "        name = file[-22:-4]\n",
    "        # normalization\n",
    "        mfcc = normalize(mfcc)\n",
    "        \n",
    "        # write\n",
    "        if(mfcc.shape != (20,44)):\n",
    "            h5f = h5py.File(\"no_feature/\" + name + \".h5\", 'w')\n",
    "        else:\n",
    "            # reshape\n",
    "            mfcc = mfcc.reshape(1,20,44)\n",
    "            h5f = h5py.File(\"feature/\"+ data_name + name + \".h5\", 'w')\n",
    "            h5f.create_dataset('arr', data=mfcc)\n",
    "            h5f.close()"
   ]
  },
  {
   "cell_type": "code",
   "execution_count": 6,
   "metadata": {
    "collapsed": false
   },
   "outputs": [
    {
     "name": "stdout",
     "output_type": "stream",
     "text": [
      "(1484, 20, 44)\n",
      "(1484, 10)\n",
      "(3005, 20, 44)\n",
      "(3005, 10)\n",
      "(4520, 20, 44)\n",
      "(4520, 10)\n",
      "(6067, 20, 44)\n",
      "(6067, 10)\n",
      "(8219, 20, 44)\n",
      "(8219, 10)\n",
      "(10330, 20, 44)\n",
      "(10330, 10)\n",
      "(12491, 20, 44)\n",
      "(12491, 10)\n",
      "(14649, 20, 44)\n",
      "(14649, 10)\n",
      "(16750, 20, 44)\n",
      "(16750, 10)\n",
      "(18299, 20, 44)\n",
      "(18299, 10)\n"
     ]
    }
   ],
   "source": [
    "label_list = [[1,0,0,0,0,0,0,0,0,0],\n",
    "              [0,1,0,0,0,0,0,0,0,0],\n",
    "              [0,0,1,0,0,0,0,0,0,0],\n",
    "              [0,0,0,1,0,0,0,0,0,0],\n",
    "              [0,0,0,0,1,0,0,0,0,0],\n",
    "              [0,0,0,0,0,1,0,0,0,0],\n",
    "              [0,0,0,0,0,0,1,0,0,0],\n",
    "              [0,0,0,0,0,0,0,1,0,0],\n",
    "              [0,0,0,0,0,0,0,0,1,0],\n",
    "              [0,0,0,0,0,0,0,0,0,1]]\n",
    "count = 0\n",
    "\n",
    "arr_data = np.empty((0,20,44)) # 빈 배열 생성\n",
    "y_data = np.empty((0,10)) # label 배열\n",
    "\n",
    "for h5_list in range(len(data_list)):\n",
    "    h5_name = data_list[h5_list]\n",
    "    h5_list = librosa.util.find_files('feature/' + h5_name, ext = 'h5') # 읽기전용 리스트\n",
    "    h5_list = list(set(h5_list)) # 겹치는 파일을 집합으로 만들어서 중복없애기\n",
    "    \n",
    "    for file in h5_list:\n",
    "        name = file[-21:-3]\n",
    "        h5f = h5py.File(\"feature/\"+ h5_name + name + \".h5\", 'r')\n",
    "        b = h5f['arr'][:]\n",
    "        k = np.array(b) # 배열에 h5파일 넣기\n",
    "        arr_data = np.vstack((arr_data,k)) # h5배열 쌓기\n",
    "        h5f.close()\n",
    "        arr_label = np.array(label_list[count])\n",
    "        y_data = np.vstack((y_data,arr_label))\n",
    "    count += 1\n",
    "    print(arr_data.shape)\n",
    "    print(y_data.shape)\n",
    "    #print(y_data)    "
   ]
  },
  {
   "cell_type": "code",
   "execution_count": 7,
   "metadata": {
    "collapsed": false
   },
   "outputs": [
    {
     "name": "stdout",
     "output_type": "stream",
     "text": [
      "(18299, 20, 44)\n",
      "(18299, 10)\n"
     ]
    }
   ],
   "source": [
    "x = arr_data #  추출한 값을 합치기\n",
    "y = y_data   #  라벨 합치기\n",
    "print(x.shape) # 데이터중에 쓸 수 있는 값의 갯수\n",
    "print(y.shape)"
   ]
  },
  {
   "cell_type": "code",
   "execution_count": 8,
   "metadata": {
    "collapsed": false
   },
   "outputs": [
    {
     "name": "stdout",
     "output_type": "stream",
     "text": [
      "(14639, 20, 44)\n",
      "(3660, 20, 44)\n"
     ]
    }
   ],
   "source": [
    "from sklearn.model_selection import train_test_split\n",
    "x_train, x_test, y_train, y_test = train_test_split(x, y, test_size=0.2, random_state=42)\n",
    "print(x_train.shape)\n",
    "print(x_test.shape)"
   ]
  },
  {
   "cell_type": "code",
   "execution_count": 9,
   "metadata": {
    "collapsed": true
   },
   "outputs": [],
   "source": [
    "batch_size = 256\n",
    "nb_classes = 10\n",
    "nb_epoch = 20\n",
    "\n",
    "# input input dimensions\n",
    "in_rows, in_cols = 20, 44\n",
    "# number of convolutional filters to use\n",
    "nb_filters = 32\n",
    "# size of pooling area for max pooling\n",
    "pool_size = (2, 2)\n",
    "# convolution kernel size\n",
    "kernel_size = (3, 3)"
   ]
  },
  {
   "cell_type": "code",
   "execution_count": 10,
   "metadata": {
    "collapsed": false
   },
   "outputs": [
    {
     "name": "stdout",
     "output_type": "stream",
     "text": [
      "x_train shape: (14639, 20, 44, 1)\n"
     ]
    }
   ],
   "source": [
    "x_train = x_train.reshape(x_train.shape[0], in_rows, in_cols, 1)\n",
    "x_test = x_test.reshape(x_test.shape[0], in_rows, in_cols, 1)\n",
    "input_shape = (in_rows, in_cols, 1)\n",
    "print('x_train shape:', x_train.shape)"
   ]
  },
  {
   "cell_type": "code",
   "execution_count": 11,
   "metadata": {
    "collapsed": false,
    "scrolled": true
   },
   "outputs": [
    {
     "name": "stdout",
     "output_type": "stream",
     "text": [
      "Train on 14639 samples, validate on 3660 samples\n",
      "Epoch 1/20\n",
      "14639/14639 [==============================] - 61s - loss: 2.2878 - acc: 0.1230 - val_loss: 2.2674 - val_acc: 0.1617\n",
      "Epoch 2/20\n",
      "14639/14639 [==============================] - 59s - loss: 2.2265 - acc: 0.1811 - val_loss: 2.1373 - val_acc: 0.2235\n",
      "Epoch 3/20\n",
      "14639/14639 [==============================] - 52s - loss: 2.0392 - acc: 0.2788 - val_loss: 1.9176 - val_acc: 0.3057\n",
      "Epoch 4/20\n",
      "14639/14639 [==============================] - 54s - loss: 1.8164 - acc: 0.3700 - val_loss: 1.4896 - val_acc: 0.5128\n",
      "Epoch 5/20\n",
      "14639/14639 [==============================] - 53s - loss: 1.5631 - acc: 0.4683 - val_loss: 1.3137 - val_acc: 0.5596\n",
      "Epoch 6/20\n",
      "14639/14639 [==============================] - 57s - loss: 1.3691 - acc: 0.5321 - val_loss: 1.2521 - val_acc: 0.5702\n",
      "Epoch 7/20\n",
      "14639/14639 [==============================] - 54s - loss: 1.1759 - acc: 0.6034 - val_loss: 0.9735 - val_acc: 0.6915\n",
      "Epoch 8/20\n",
      "14639/14639 [==============================] - 54s - loss: 1.0357 - acc: 0.6513 - val_loss: 0.8094 - val_acc: 0.7301\n",
      "Epoch 9/20\n",
      "14639/14639 [==============================] - 55s - loss: 0.9302 - acc: 0.6912 - val_loss: 0.7845 - val_acc: 0.7385\n",
      "Epoch 10/20\n",
      "14639/14639 [==============================] - 58s - loss: 0.8493 - acc: 0.7194 - val_loss: 0.6227 - val_acc: 0.7915\n",
      "Epoch 11/20\n",
      "14639/14639 [==============================] - 57s - loss: 0.7744 - acc: 0.7421 - val_loss: 0.6100 - val_acc: 0.8005\n",
      "Epoch 12/20\n",
      "14639/14639 [==============================] - 56s - loss: 0.7218 - acc: 0.7618 - val_loss: 0.6304 - val_acc: 0.7880\n",
      "Epoch 13/20\n",
      "14639/14639 [==============================] - 56s - loss: 0.6888 - acc: 0.7701 - val_loss: 0.5193 - val_acc: 0.8295\n",
      "Epoch 14/20\n",
      "14639/14639 [==============================] - 58s - loss: 0.6416 - acc: 0.7916 - val_loss: 0.5045 - val_acc: 0.8369\n",
      "Epoch 15/20\n",
      "14639/14639 [==============================] - 54s - loss: 0.6098 - acc: 0.7991 - val_loss: 0.4787 - val_acc: 0.8361\n",
      "Epoch 16/20\n",
      "14639/14639 [==============================] - 52s - loss: 0.5927 - acc: 0.8065 - val_loss: 0.5259 - val_acc: 0.8251\n",
      "Epoch 17/20\n",
      "14639/14639 [==============================] - 52s - loss: 0.5623 - acc: 0.8180 - val_loss: 0.4664 - val_acc: 0.8443\n",
      "Epoch 18/20\n",
      "14639/14639 [==============================] - 51s - loss: 0.5436 - acc: 0.8175 - val_loss: 0.5290 - val_acc: 0.8230\n",
      "Epoch 19/20\n",
      "14639/14639 [==============================] - 57s - loss: 0.5215 - acc: 0.8270 - val_loss: 0.4580 - val_acc: 0.8492\n",
      "Epoch 20/20\n",
      "14639/14639 [==============================] - 55s - loss: 0.5115 - acc: 0.8346 - val_loss: 0.4389 - val_acc: 0.8500\n",
      "Test score: 0.438897114829\n",
      "Test accuracy: 0.85\n"
     ]
    }
   ],
   "source": [
    "model = None\n",
    "model = Sequential()\n",
    "\n",
    "model.add(Conv2D(nb_filters, kernel_size, padding='valid', input_shape=input_shape))\n",
    "BatchNormalization(axis=-1)\n",
    "model.add(Activation('relu'))\n",
    "model.add(Conv2D(nb_filters, kernel_size))\n",
    "BatchNormalization(axis=-1)\n",
    "model.add(Activation('relu'))\n",
    "\n",
    "model.add(MaxPooling2D(pool_size=pool_size))\n",
    "\n",
    "model.add(Conv2D(nb_filters, kernel_size))\n",
    "BatchNormalization(axis=-1)\n",
    "model.add(Activation('relu'))\n",
    "model.add(Conv2D(nb_filters, kernel_size))\n",
    "BatchNormalization(axis=-1)\n",
    "model.add(Activation('relu'))\n",
    "\n",
    "model.add(MaxPooling2D(pool_size=pool_size))\n",
    "\n",
    "model.add(Flatten())\n",
    "model.add(Dense(64))\n",
    "BatchNormalization()\n",
    "model.add(Activation('relu'))\n",
    "model.add(Dropout(0.5))\n",
    "model.add(Dense(nb_classes))\n",
    "model.add(Activation('softmax'))\n",
    "\n",
    "model.compile(loss='categorical_crossentropy',\n",
    "              optimizer='Adadelta',\n",
    "              metrics=['accuracy'])\n",
    "\n",
    "hist = model.fit(x_train, y_train, batch_size=batch_size, epochs=nb_epoch,\n",
    "          verbose=1, validation_data=(x_test, y_test))\n",
    "score = model.evaluate(x_test, y_test, verbose=0)\n",
    "print('Test score:', score[0])\n",
    "print('Test accuracy:', score[1])"
   ]
  },
  {
   "cell_type": "code",
   "execution_count": 12,
   "metadata": {
    "collapsed": false
   },
   "outputs": [
    {
     "data": {
      "image/png": "[encoded data removed]",
      "text/plain": [
       "<matplotlib.figure.Figure at 0x1f34b10ada0>"
      ]
     },
     "metadata": {},
     "output_type": "display_data"
    }
   ],
   "source": [
    "import matplotlib.pyplot as plt\n",
    "\n",
    "plt.plot(hist.history['loss'], label=\"loss\")\n",
    "plt.legend()\n",
    "plt.show()"
   ]
  },
  {
   "cell_type": "code",
   "execution_count": 13,
   "metadata": {
    "collapsed": false
   },
   "outputs": [
    {
     "data": {
      "image/png": "[encoded data removed]",
      "text/plain": [
       "<matplotlib.figure.Figure at 0x1f35dd82400>"
      ]
     },
     "metadata": {},
     "output_type": "display_data"
    }
   ],
   "source": [
    "plt.plot(hist.history['acc'], 'b', label=\"training\")\n",
    "plt.plot(hist.history['val_acc'], 'r:', label=\"test\")\n",
    "plt.legend()\n",
    "plt.show()"
   ]
  },
  {
   "cell_type": "code",
   "execution_count": null,
   "metadata": {
    "collapsed": true
   },
   "outputs": [],
   "source": []
  }
 ],
 "metadata": {
  "anaconda-cloud": {},
  "kernelspec": {
   "display_name": "Python [default]",
   "language": "python",
   "name": "python3"
  },
  "language_info": {
   "codemirror_mode": {
    "name": "ipython",
    "version": 3
   },
   "file_extension": ".py",
   "mimetype": "text/x-python",
   "name": "python",
   "nbconvert_exporter": "python",
   "pygments_lexer": "ipython3",
   "version": "3.5.2"
  }
 },
 "nbformat": 4,
 "nbformat_minor": 2
}
